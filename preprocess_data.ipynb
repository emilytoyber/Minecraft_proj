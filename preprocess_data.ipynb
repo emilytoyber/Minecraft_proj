{
  "cells": [
    {
      "cell_type": "markdown",
      "metadata": {
        "id": "sLxVHCMKWSH6"
      },
      "source": [
        "## installations and imports"
      ]
    },
    {
      "cell_type": "code",
      "execution_count": null,
      "metadata": {
        "id": "d8b-Q4s-BNU0"
      },
      "outputs": [],
      "source": [
        "%%capture\n",
        "!sudo add-apt-repository -y ppa:openjdk-r/ppa\n",
        "!sudo apt-get purge openjdk-*\n",
        "!sudo apt-get install openjdk-8-jdk\n",
        "!sudo apt-get install xvfb xserver-xephyr vnc4server python-opengl ffmpeg"
      ]
    },
    {
      "cell_type": "code",
      "execution_count": null,
      "metadata": {
        "id": "HVRfFQciBnpT"
      },
      "outputs": [],
      "source": [
        "%%capture\n",
        "!pip install --upgrade 'setuptools==57.5.0'\n",
        "!pip install 'gym==0.19.0'"
      ]
    },
    {
      "cell_type": "code",
      "execution_count": null,
      "metadata": {
        "id": "BDSARAxDcwhm"
      },
      "outputs": [],
      "source": [
        "!pip install --upgrade wheel==0.38.4"
      ]
    },
    {
      "cell_type": "code",
      "execution_count": null,
      "metadata": {
        "id": "Z9scePJmBSl_",
        "scrolled": true
      },
      "outputs": [],
      "source": [
        "#%%capture\n",
        "!pip install --upgrade minerl\n",
        "!pip install pyvirtualdisplay\n",
        "\n",
        "!pip install scikit-learn\n",
        "!pip install -U colabgymrender"
      ]
    },
    {
      "cell_type": "code",
      "execution_count": null,
      "metadata": {
        "id": "2nIA9NkYBxQJ"
      },
      "outputs": [],
      "source": [
        "import random\n",
        "import numpy as np\n",
        "\n",
        "import gym\n",
        "import minerl\n",
        "\n",
        "from tqdm.notebook import tqdm\n",
        "\n",
        "from pyvirtualdisplay import Display\n",
        "from sklearn.cluster import KMeans\n",
        "from collections import Counter\n",
        "import pandas as pd\n",
        "import logging\n",
        "logging.disable(logging.ERROR) # reduce clutter, remove if something doesn't work to see the error logs."
      ]
    },
    {
      "cell_type": "markdown",
      "metadata": {
        "id": "08sZe3zYWnYn"
      },
      "source": [
        "##read data"
      ]
    },
    {
      "cell_type": "code",
      "execution_count": null,
      "metadata": {
        "id": "PsCQUVtAB5dR"
      },
      "outputs": [],
      "source": [
        "minerl.data.download(directory='data', environment='MineRLObtainIronPickaxe-v0');"
      ]
    },
    {
      "cell_type": "code",
      "execution_count": null,
      "metadata": {
        "id": "6ZMGkvoiCB33"
      },
      "outputs": [],
      "source": [
        "from gym import spaces"
      ]
    },
    {
      "cell_type": "code",
      "execution_count": null,
      "metadata": {
        "id": "mv6AREutCHp3",
        "scrolled": true
      },
      "outputs": [],
      "source": [
        "data=minerl.data.make(\"MineRLObtainIronPickaxe-v0\")"
      ]
    },
    {
      "cell_type": "markdown",
      "metadata": {
        "id": "5GKVxzALyde3"
      },
      "source": [
        "##Data Analysis"
      ]
    },
    {
      "cell_type": "markdown",
      "metadata": {
        "id": "4C5qbI4AWv5l",
        "jp-MarkdownHeadingCollapsed": true
      },
      "source": [
        "### helpful functions"
      ]
    },
    {
      "cell_type": "code",
      "execution_count": null,
      "metadata": {
        "id": "H2HrJSxwD1c1"
      },
      "outputs": [],
      "source": [
        "def print_in_dict(dic,is_countain_array=True):\n",
        "  # prints the keys and shapes of the values of the inventory dictionary\n",
        "  for key in dic.keys():\n",
        "    if is_countain_array:\n",
        "      if type(dic[key]) is dict:\n",
        "        for in_key in dic[key].keys():\n",
        "          print(f\"{key}:\", in_key, dic[key][in_key].shape)\n",
        "        continue\n",
        "      print(key,dic[key].shape)\n",
        "    else:\n",
        "      if type(dic[key]) is dict:\n",
        "        for in_key in dic[key].keys():\n",
        "          print(f\"{key}:\", f\"{in_key}:\", dic[key][in_key])\n",
        "        continue\n",
        "      if key==\"pov\":\n",
        "        print(f\"{key}:\",dic[key].shape)\n",
        "        continue\n",
        "      print(f\"{key}:\",dic[key])"
      ]
    },
    {
      "cell_type": "code",
      "execution_count": null,
      "metadata": {
        "id": "v2EUuAWEMv1Y"
      },
      "outputs": [],
      "source": [
        "def recursive_unzip(dictionary, item_idx):\n",
        "    \"\"\" \"Unzip\" dictionary \"\"\"\n",
        "    ret = {}\n",
        "    for key, item in dictionary.items():\n",
        "        if isinstance(item, dict):\n",
        "            ret[key] = recursive_unzip(item, item_idx)\n",
        "        else:\n",
        "            ret[key] = item[item_idx]\n",
        "    return ret\n",
        "\n",
        "def unzip_states_or_actions(state_or_action_dict):\n",
        "    \"\"\"Turns the \"raveled\" states/actions from sarsd_iter into list of dicts\"\"\"\n",
        "    ret = []\n",
        "    num_items=len(state_or_action_dict.get(\"pov\",state_or_action_dict.get(\"sneak\")))\n",
        "    for i in range(num_items):\n",
        "        ret.append(recursive_unzip(state_or_action_dict, i))\n",
        "    return ret"
      ]
    },
    {
      "cell_type": "code",
      "execution_count": null,
      "metadata": {
        "id": "8z5IljIfXNMf"
      },
      "outputs": [],
      "source": [
        "def actions_to_vec(actions):\n",
        "  # change the actions dictionary to a vector\n",
        "  vec=[]\n",
        "  for key,value in actions.items():\n",
        "    if key==\"camera\":\n",
        "      vec.append(value[0])\n",
        "      vec.append(value[1])\n",
        "    elif isinstance(value,str):\n",
        "      vec.append(0)\n",
        "    else:\n",
        "      vec.append(value)\n",
        "  return(vec)\n",
        "\n",
        "\n",
        "def states_to_vec(states):\n",
        "  # change the states dictionary to a vector\n",
        "  vec=[]\n",
        "  vec.append(states['equipped_items.mainhand.damage'])\n",
        "  vec.append(states['equipped_items.mainhand.maxDamage'])\n",
        "  if isinstance(states['equipped_items.mainhand.type'],str):\n",
        "\n",
        "    vec.append(0)\n",
        "  else:\n",
        "    vec.append(states['equipped_items.mainhand.type'])\n",
        "  for item in states[\"inventory\"]:\n",
        "    vec.append(states[\"inventory\"][item])\n",
        "  return(vec,states[\"pov\"])"
      ]
    },
    {
      "cell_type": "code",
      "execution_count": null,
      "metadata": {
        "id": "KMhjz_u1XQX2"
      },
      "outputs": [],
      "source": [
        "def grouping(states,actions,rewards):\n",
        "  \"\"\"\n",
        "  get a single batch data and convert it into tuple list (state,action,reward,pov)\n",
        "\n",
        "  state- dict of states with seq_len items\n",
        "  action- dict of actions with seq_len items\n",
        "  reward- array of size seq_len\n",
        "  \"\"\"\n",
        "  unzip_actions=unzip_states_or_actions(actions)\n",
        "  unzip_states=unzip_states_or_actions(states)\n",
        "  tuple_list=[]\n",
        "  for i in range(len(unzip_actions)):\n",
        "      action_vec=actions_to_vec(unzip_actions[i])\n",
        "\n",
        "      state_vec,_=states_to_vec(unzip_states[i])\n",
        "\n",
        "      tuple_list.append((state_vec,action_vec))\n",
        "  return(tuple_list)"
      ]
    },
    {
      "cell_type": "markdown",
      "metadata": {
        "id": "5_KWQ7qRWMkw"
      },
      "source": [
        "###states"
      ]
    },
    {
      "cell_type": "code",
      "execution_count": null,
      "metadata": {
        "colab": {
          "base_uri": "https://localhost:8080/"
        },
        "id": "b0fes7IEMb1E",
        "outputId": "49bf8acf-5d07-45a7-9256-f5a62699cb8a"
      },
      "outputs": [
        {
          "name": "stdout",
          "output_type": "stream",
          "text": [
            "equipped_items.mainhand.damage (2, 10)\n",
            "equipped_items.mainhand.maxDamage (2, 10)\n",
            "equipped_items.mainhand.type (2, 10)\n",
            "inventory: coal (2, 10)\n",
            "inventory: cobblestone (2, 10)\n",
            "inventory: crafting_table (2, 10)\n",
            "inventory: dirt (2, 10)\n",
            "inventory: furnace (2, 10)\n",
            "inventory: iron_axe (2, 10)\n",
            "inventory: iron_ingot (2, 10)\n",
            "inventory: iron_ore (2, 10)\n",
            "inventory: iron_pickaxe (2, 10)\n",
            "inventory: log (2, 10)\n",
            "inventory: planks (2, 10)\n",
            "inventory: stick (2, 10)\n",
            "inventory: stone (2, 10)\n",
            "inventory: stone_axe (2, 10)\n",
            "inventory: stone_pickaxe (2, 10)\n",
            "inventory: torch (2, 10)\n",
            "inventory: wooden_axe (2, 10)\n",
            "inventory: wooden_pickaxe (2, 10)\n",
            "pov (2, 10, 64, 64, 3)\n"
          ]
        }
      ],
      "source": [
        "print_in_dict(states)"
      ]
    },
    {
      "cell_type": "code",
      "execution_count": null,
      "metadata": {
        "colab": {
          "base_uri": "https://localhost:8080/"
        },
        "id": "pD4-aRDDW725",
        "outputId": "9fdd831c-5d95-48d1-e78a-5a3b2e7f2927"
      },
      "outputs": [
        {
          "name": "stdout",
          "output_type": "stream",
          "text": [
            "unzip_states size: 2\n",
            "\n",
            "equipped_items.mainhand.damage (10,)\n",
            "equipped_items.mainhand.maxDamage (10,)\n",
            "equipped_items.mainhand.type (10,)\n",
            "inventory: coal (10,)\n",
            "inventory: cobblestone (10,)\n",
            "inventory: crafting_table (10,)\n",
            "inventory: dirt (10,)\n",
            "inventory: furnace (10,)\n",
            "inventory: iron_axe (10,)\n",
            "inventory: iron_ingot (10,)\n",
            "inventory: iron_ore (10,)\n",
            "inventory: iron_pickaxe (10,)\n",
            "inventory: log (10,)\n",
            "inventory: planks (10,)\n",
            "inventory: stick (10,)\n",
            "inventory: stone (10,)\n",
            "inventory: stone_axe (10,)\n",
            "inventory: stone_pickaxe (10,)\n",
            "inventory: torch (10,)\n",
            "inventory: wooden_axe (10,)\n",
            "inventory: wooden_pickaxe (10,)\n",
            "pov (10, 64, 64, 3)\n"
          ]
        }
      ],
      "source": [
        "unzip_states=unzip_states_or_actions(states)\n",
        "print(\"unzip_states size:\",len(unzip_states))\n",
        "print()\n",
        "print_in_dict(unzip_states[0])"
      ]
    },
    {
      "cell_type": "code",
      "execution_count": null,
      "metadata": {
        "colab": {
          "base_uri": "https://localhost:8080/"
        },
        "id": "eSJaCPY2W-VW",
        "outputId": "25809403-2084-4fce-8b41-5cdb082fafef"
      },
      "outputs": [
        {
          "name": "stdout",
          "output_type": "stream",
          "text": [
            "unzip_of_unzip_actions size: 10\n",
            "\n",
            "equipped_items.mainhand.damage: 0\n",
            "equipped_items.mainhand.maxDamage: 0\n",
            "equipped_items.mainhand.type: none\n",
            "inventory: coal: 0\n",
            "inventory: cobblestone: 0\n",
            "inventory: crafting_table: 0\n",
            "inventory: dirt: 0\n",
            "inventory: furnace: 0\n",
            "inventory: iron_axe: 0\n",
            "inventory: iron_ingot: 0\n",
            "inventory: iron_ore: 0\n",
            "inventory: iron_pickaxe: 0\n",
            "inventory: log: 0\n",
            "inventory: planks: 0\n",
            "inventory: stick: 0\n",
            "inventory: stone: 0\n",
            "inventory: stone_axe: 0\n",
            "inventory: stone_pickaxe: 0\n",
            "inventory: torch: 0\n",
            "inventory: wooden_axe: 0\n",
            "inventory: wooden_pickaxe: 0\n",
            "pov: (64, 64, 3)\n"
          ]
        }
      ],
      "source": [
        "unzip_of_unzip_states=unzip_states_or_actions(unzip_states[0])\n",
        "print(\"unzip_of_unzip_actions size:\",len(unzip_of_unzip_states))\n",
        "print()\n",
        "print_in_dict(unzip_of_unzip_states[0],False)"
      ]
    },
    {
      "cell_type": "markdown",
      "metadata": {
        "id": "zNtLEbyJW26x"
      },
      "source": [
        "###actions"
      ]
    },
    {
      "cell_type": "code",
      "execution_count": null,
      "metadata": {
        "colab": {
          "base_uri": "https://localhost:8080/"
        },
        "id": "G6LLutifMkUt",
        "outputId": "5d250634-8c80-47ce-a149-555efdcc94ee"
      },
      "outputs": [
        {
          "name": "stdout",
          "output_type": "stream",
          "text": [
            "attack (2, 10)\n",
            "back (2, 10)\n",
            "camera (2, 10, 2)\n",
            "craft (2, 10)\n",
            "equip (2, 10)\n",
            "forward (2, 10)\n",
            "jump (2, 10)\n",
            "left (2, 10)\n",
            "nearbyCraft (2, 10)\n",
            "nearbySmelt (2, 10)\n",
            "place (2, 10)\n",
            "right (2, 10)\n",
            "sneak (2, 10)\n",
            "sprint (2, 10)\n"
          ]
        }
      ],
      "source": [
        "print_in_dict(actions)"
      ]
    },
    {
      "cell_type": "code",
      "execution_count": null,
      "metadata": {
        "colab": {
          "base_uri": "https://localhost:8080/"
        },
        "id": "_F9LxiSuD-AV",
        "outputId": "359abb4e-7412-4f8f-99ce-844ed3e3488b"
      },
      "outputs": [
        {
          "name": "stdout",
          "output_type": "stream",
          "text": [
            "unzip_actions size: 2\n",
            "\n",
            "attack (10,)\n",
            "back (10,)\n",
            "camera (10, 2)\n",
            "craft (10,)\n",
            "equip (10,)\n",
            "forward (10,)\n",
            "jump (10,)\n",
            "left (10,)\n",
            "nearbyCraft (10,)\n",
            "nearbySmelt (10,)\n",
            "place (10,)\n",
            "right (10,)\n",
            "sneak (10,)\n",
            "sprint (10,)\n"
          ]
        }
      ],
      "source": [
        "unzip_actions=unzip_states_or_actions(actions)\n",
        "print(\"unzip_actions size:\",len(unzip_actions))\n",
        "print()\n",
        "print_in_dict(unzip_actions[0])"
      ]
    },
    {
      "cell_type": "code",
      "execution_count": null,
      "metadata": {
        "colab": {
          "base_uri": "https://localhost:8080/"
        },
        "id": "Q11bJhYCLrGL",
        "outputId": "35a20455-f416-4d3c-8a30-ab81e930aea2"
      },
      "outputs": [
        {
          "name": "stdout",
          "output_type": "stream",
          "text": [
            "unzip_of_unzip_actions size: 10\n",
            "\n",
            "attack: 0\n",
            "back: 0\n",
            "camera: [0. 0.]\n",
            "craft: none\n",
            "equip: none\n",
            "forward: 1\n",
            "jump: 0\n",
            "left: 0\n",
            "nearbyCraft: none\n",
            "nearbySmelt: none\n",
            "place: none\n",
            "right: 0\n",
            "sneak: 0\n",
            "sprint: 0\n"
          ]
        }
      ],
      "source": [
        "unzip_of_unzip_actions=unzip_states_or_actions(unzip_actions[0])\n",
        "print(\"unzip_of_unzip_actions size:\",len(unzip_of_unzip_actions))\n",
        "print()\n",
        "print_in_dict(unzip_of_unzip_actions[0],False)"
      ]
    },
    {
      "cell_type": "markdown",
      "metadata": {
        "id": "fneVjnSOXeaV"
      },
      "source": [
        "###create (state,action,reward,pov) tuple-list"
      ]
    },
    {
      "cell_type": "code",
      "execution_count": null,
      "metadata": {
        "id": "Fma99qxFCeTJ"
      },
      "outputs": [],
      "source": [
        "i=0\n",
        "while data.batch_iter(2,seq_len=10) is not None and i<=5:\n",
        "    x = next(data.batch_iter(2,seq_len=10))\n",
        "    states,actions,rewards,state_prime,dones=x\n",
        "    unzip_states=unzip_states_or_actions(states)\n",
        "    unzip_actions=unzip_states_or_actions(actions)\n",
        "    print(grouping(unzip_states[0],unzip_actions[0],rewards[0])[0])\n",
        "    i+=1"
      ]
    },
    {
      "cell_type": "markdown",
      "metadata": {
        "id": "YK_aNh3O5coT"
      },
      "source": [
        "### Plot Actions"
      ]
    },
    {
      "cell_type": "code",
      "execution_count": null,
      "metadata": {
        "id": "FAeah2JIO9XW"
      },
      "outputs": [],
      "source": [
        "df_seq=pd.DataFrame(df)\n",
        "df_seq"
      ]
    },
    {
      "cell_type": "code",
      "execution_count": null,
      "metadata": {
        "id": "bR2f7JMZf4dw"
      },
      "outputs": [],
      "source": [
        "IDs=df_seq[\"ID\"].unique()\n",
        "player_actions=[]\n",
        "for i in IDs:\n",
        "  new_df={\"prev\":[],\"curr\":[],\"change\":[]}\n",
        "  r0=df_seq[df_seq[\"ID\"]==i].iloc[0]\n",
        "  prev_seq=r0[\"Action_Time\"]\n",
        "  change=r0[\"Change\"]\n",
        "  for idx,r in df_seq[df_seq[\"ID\"]==i].iloc[1:].iterrows():\n",
        "    new_df[\"prev\"].append(prev_seq)\n",
        "    curr=r[\"Action_Time\"]\n",
        "    new_df[\"curr\"].append(r[\"Action_Time\"])\n",
        "    new_df[\"change\"].append(change)\n",
        "    prev_seq=curr\n",
        "    change=r[\"Change\"]\n",
        "  new_df[\"prev\"].append(prev_seq)\n",
        "  new_df[\"curr\"].append(prev_seq+1)\n",
        "  new_df[\"change\"].append(change)\n",
        "  player_actions.append((i,new_df))"
      ]
    },
    {
      "cell_type": "code",
      "execution_count": null,
      "metadata": {
        "id": "9yyZY8MQeLUq"
      },
      "outputs": [],
      "source": [
        "pd.DataFrame(player_actions[0][1])"
      ]
    },
    {
      "cell_type": "code",
      "execution_count": null,
      "metadata": {
        "id": "OaeM3JE2ajP6"
      },
      "outputs": [],
      "source": [
        "import networkx as nx"
      ]
    },
    {
      "cell_type": "code",
      "execution_count": null,
      "metadata": {
        "id": "24Y-8mudguW7"
      },
      "outputs": [],
      "source": [
        "def print_10_first_changes(name,new_df):\n",
        "  pos_or=[np.array([0., 0.]),\n",
        "          np.array([1., 0.  ]),\n",
        "          np.array([0., 0.2 ]),\n",
        "          np.array([1., 0.25]),\n",
        "          np.array([0., 0.4]),\n",
        "          np.array([1. , 0.5]),\n",
        "          np.array([0. , 0.6]),\n",
        "          np.array([1., 0.75]),\n",
        "          np.array([0., 0.8]),\n",
        "          np.array([1., 1.]),\n",
        "          np.array([0. , 1.])]\n",
        "  data=pd.DataFrame(new_df).iloc[:10]\n",
        "  G=nx.from_pandas_edgelist(data,\"prev\",\"curr\",edge_attr=\"change\",create_using=nx.DiGraph())\n",
        "  print(name)\n",
        "  print(pd.DataFrame(new_df).iloc[:10])\n",
        "  pos={}\n",
        "  for idx,i in enumerate(data[\"prev\"]):\n",
        "    pos[i]=pos_or[idx]\n",
        "  pos[data[\"curr\"][9]]=pos_or[10]\n",
        "  nx.draw(G,pos=pos,with_labels = True,font_size=8)  # add other parameters\n",
        "  edge_labels = nx.get_edge_attributes(G, \"change\")\n",
        "  nx.draw_networkx_edge_labels(G, pos, edge_labels)\n",
        "  print()"
      ]
    },
    {
      "cell_type": "code",
      "execution_count": null,
      "metadata": {
        "colab": {
          "base_uri": "https://localhost:8080/",
          "height": 742
        },
        "id": "PoTwPBtshKwJ",
        "outputId": "a40128d4-b6fa-45a0-d681-2fc7c2e3a6c5"
      },
      "outputs": [
        {
          "name": "stdout",
          "output_type": "stream",
          "text": [
            "v3_conscious_tangerine_rain_bird-41_80960-91940\n",
            "   prev  curr                               change\n",
            "0   372   453                           [(log, 1)]\n",
            "1   453   524                           [(log, 1)]\n",
            "2   524   593                           [(log, 1)]\n",
            "3   593   670                           [(log, 1)]\n",
            "4   670   740                           [(log, 1)]\n",
            "5   740   971                           [(log, 1)]\n",
            "6   971  1084                           [(log, 2)]\n",
            "7  1084  1089             [(planks, 4), (log, -1)]\n",
            "8  1089  1266            [(planks, 28), (log, -7)]\n",
            "9  1266  1337  [(crafting_table, 1), (planks, -4)]\n",
            "\n"
          ]
        },
        {
          "data": {
            "image/png": "[encoded data removed]",
            "text/plain": [
              "<Figure size 640x480 with 1 Axes>"
            ]
          },
          "metadata": {},
          "output_type": "display_data"
        }
      ],
      "source": [
        "print_10_first_changes(player_actions[0][0],player_actions[0][1])"
      ]
    },
    {
      "cell_type": "code",
      "execution_count": null,
      "metadata": {
        "colab": {
          "base_uri": "https://localhost:8080/",
          "height": 742
        },
        "id": "pBT7c6ZLhYeE",
        "outputId": "fb44ddb9-799f-47d9-f88e-e2284f25b1c5"
      },
      "outputs": [
        {
          "name": "stdout",
          "output_type": "stream",
          "text": [
            "v3_villainous_black_eyed_peas_loch_ness_monster-2_60815-67133\n",
            "   prev  curr                                            change\n",
            "0   259   316                                        [(log, 2)]\n",
            "1   316   348                          [(planks, 4), (log, -1)]\n",
            "2   348   404                          [(planks, 4), (log, -1)]\n",
            "3   404   581               [(crafting_table, 1), (planks, -4)]\n",
            "4   581   635                                        [(log, 1)]\n",
            "5   635   665                          [(planks, 4), (log, -1)]\n",
            "6   665   730                            [(crafting_table, -1)]\n",
            "7   730   850                        [(stick, 4), (planks, -2)]\n",
            "8   850   995  [(wooden_pickaxe, 1), (planks, -3), (stick, -2)]\n",
            "9   995  1109      [(wooden_axe, 1), (planks, -3), (stick, -2)]\n",
            "\n"
          ]
        },
        {
          "data": {
            "image/png": "[encoded data removed]",
            "text/plain": [
              "<Figure size 640x480 with 1 Axes>"
            ]
          },
          "metadata": {},
          "output_type": "display_data"
        }
      ],
      "source": [
        "print_10_first_changes(player_actions[1][0],player_actions[1][1])"
      ]
    },
    {
      "cell_type": "markdown",
      "metadata": {
        "id": "Xsr9xNr0Gvcg"
      },
      "source": [
        "## Create JSON files"
      ]
    },
    {
      "cell_type": "code",
      "execution_count": null,
      "metadata": {
        "id": "QbSCBHZh9ppb"
      },
      "outputs": [],
      "source": [
        "from collections import defaultdict\n",
        "import csv\n",
        "import json\n",
        "import pickle"
      ]
    },
    {
      "cell_type": "code",
      "execution_count": null,
      "metadata": {
        "id": "vAgK1840GtD5"
      },
      "outputs": [],
      "source": [
        "trajectorys=data.get_trajectory_names()"
      ]
    },
    {
      "cell_type": "markdown",
      "metadata": {
        "id": "c3PTJxSN95DV"
      },
      "source": [
        "###all changes for all players (table)"
      ]
    },
    {
      "cell_type": "code",
      "execution_count": null,
      "metadata": {
        "id": "4jqNPOWhJzJb"
      },
      "outputs": [],
      "source": [
        "df={\"ID\":[],\"Change\":[],\"Seq_ID\":[],\"Action_Time\":[]}\n",
        "\n",
        "for t_names in trajectorys:\n",
        "  first_player_lst=list(data.load_data(t_names))\n",
        "  id=0\n",
        "  for idx,(state,_,_,new_state,_) in enumerate(first_player_lst):\n",
        "    change=[]\n",
        "    prev=Counter(state[\"inventory\"])\n",
        "    curr=Counter(new_state[\"inventory\"])\n",
        "    #check add item\n",
        "    for new_items in (curr-prev).items():\n",
        "      change.append(new_items)\n",
        "    for item,amount in (prev-curr).items():\n",
        "      change.append((item,-amount))\n",
        "    if len(change)!=0:\n",
        "      id+=1\n",
        "      df[\"ID\"].append(t_names)\n",
        "      df[\"Change\"].append(change)\n",
        "      df[\"Seq_ID\"].append(id)\n",
        "      df[\"Action_Time\"].append(idx)\n"
      ]
    },
    {
      "cell_type": "markdown",
      "metadata": {
        "id": "dl_YuSxt9_co"
      },
      "source": [
        "###action to transition"
      ]
    },
    {
      "cell_type": "code",
      "execution_count": null,
      "metadata": {
        "id": "sdoGzWGQqWcF"
      },
      "outputs": [],
      "source": [
        "data=minerl.data.make(\"MineRLObtainIronPickaxe-v0\")"
      ]
    },
    {
      "cell_type": "code",
      "execution_count": null,
      "metadata": {
        "id": "jtq2B2Z990Bd"
      },
      "outputs": [],
      "source": [
        "# creating the changing_actions set and action_to_transition dictionary (set contains all actions that change the state and dictionary contains a mapping from action to the transitions that it caused)\n",
        "changing_actions=set()\n",
        "action_to_transition=defaultdict(list)\n",
        "\n",
        "for t_names in trajectorys:\n",
        "  first_player_lst=list(data.load_data(t_names))\n",
        "  id=0\n",
        "  for idx,(state,player_action,_,new_state,_) in enumerate(first_player_lst):\n",
        "    change=[]\n",
        "    prev_inv=Counter(state[\"inventory\"])\n",
        "    curr_inv=Counter(new_state[\"inventory\"])\n",
        "    prev_equ=state['equipped_items.mainhand.type']\n",
        "    curr_equ=new_state['equipped_items.mainhand.type']\n",
        "    if prev_equ!=curr_equ:\n",
        "\n",
        "      change.append((\"equipped\",curr_equ))\n",
        "\n",
        "    #check add item\n",
        "    for key,val in (curr_inv-prev_inv).items():\n",
        "      change.append((key,int(val)))\n",
        "    for item,amount in (prev_inv-curr_inv).items():\n",
        "      change.append((item,-int(amount)))\n",
        "    if len(change)!=0:\n",
        "      curr_acc_change=[]\n",
        "      for acc,val in player_action.items():\n",
        "        if acc!=\"camera\" and val!=0 and val!='none':\n",
        "          curr_acc_change.append((acc,val))\n",
        "      state_small={'equipped_items.mainhand.type':state['equipped_items.mainhand.type'],\"inventory\":{key:int(val) for key,val in state[\"inventory\"].items()}}\n",
        "      new_state_small={'equipped_items.mainhand.type':new_state['equipped_items.mainhand.type'],\"inventory\":{key:int(val) for key,val in new_state[\"inventory\"].items()}}\n",
        "      action_to_transition[str(tuple(curr_acc_change))].append((state_small,new_state_small,change))\n",
        "      changing_actions.add(str(tuple(curr_acc_change)))\n"
      ]
    },
    {
      "cell_type": "code",
      "execution_count": null,
      "metadata": {
        "id": "l8Li7pG-ysoI"
      },
      "outputs": [],
      "source": [
        "with open('action_to_transition.json', 'w') as f:\n",
        "  json.dump(action_to_transition, f, indent = 3)"
      ]
    },
    {
      "cell_type": "code",
      "execution_count": null,
      "metadata": {
        "id": "KKnPTndq3fhH"
      },
      "outputs": [],
      "source": [
        "with open('changing_actions.pkl','wb') as f:\n",
        "   pickle.dump(changing_actions,f)"
      ]
    },
    {
      "cell_type": "code",
      "execution_count": null,
      "metadata": {
        "id": "MxDzScgwzQDg"
      },
      "outputs": [],
      "source": [
        "# read the action_to_transition dictionary\n",
        "# with open('action_to_transition.json', 'r') as j:\n",
        "#   new_fun=json.load(j)"
      ]
    },
    {
      "cell_type": "code",
      "execution_count": null,
      "metadata": {
        "id": "jSLFy0Yl5JaH",
        "scrolled": true
      },
      "outputs": [],
      "source": [
        "# read the changing_actions set\n",
        "# with open('changing_actions.pkl','rb') as f:\n",
        "#    my_set = pickle.load(f)"
      ]
    },
    {
      "cell_type": "markdown",
      "metadata": {
        "id": "psGCWW-FnwwV"
      },
      "source": [
        "###state to transition"
      ]
    },
    {
      "cell_type": "code",
      "execution_count": null,
      "metadata": {
        "id": "FN5s8B3OnzIT",
        "scrolled": true
      },
      "outputs": [],
      "source": [
        "# creating the state_to_transition dictionary (dictionary contains a mapping from state to the actions that were taken from it)\n",
        "state_to_transition=defaultdict(list)\n",
        "\n",
        "for t_names in trajectorys:\n",
        "  first_player_lst=list(data.load_data(t_names))\n",
        "  id=0\n",
        "  for idx,(state,player_action,_,new_state,_) in enumerate(first_player_lst):\n",
        "    change=[]\n",
        "    prev_inv=Counter(state[\"inventory\"])\n",
        "    curr_inv=Counter(new_state[\"inventory\"])\n",
        "    prev_equ=state['equipped_items.mainhand.type']\n",
        "    curr_equ=new_state['equipped_items.mainhand.type']\n",
        "    if prev_equ!=curr_equ:\n",
        "      change.append((\"equipped\",curr_equ))\n",
        "\n",
        "    #check add item\n",
        "    for key,val in (curr_inv-prev_inv).items():\n",
        "      change.append((key,int(val)))\n",
        "    for item,amount in (prev_inv-curr_inv).items():\n",
        "      change.append((item,-int(amount)))\n",
        "    if len(change)!=0:\n",
        "      curr_acc_change=[]\n",
        "      for acc,val in player_action.items():\n",
        "        if acc!=\"camera\" and val!=0 and val!='none':\n",
        "          try:\n",
        "            curr_acc_change.append((acc,int(val)))\n",
        "          except:\n",
        "            curr_acc_change.append((acc,val))\n",
        "      state_small={'equipped_items.mainhand.type':state['equipped_items.mainhand.type'],\"inventory\":{key:int(val) for key,val in state[\"inventory\"].items()}}\n",
        "      new_state_small={'equipped_items.mainhand.type':new_state['equipped_items.mainhand.type'],\"inventory\":{key:int(val) for key,val in new_state[\"inventory\"].items()}}\n",
        "      state_to_transition[json.dumps(state_small)].append(tuple(curr_acc_change))\n"
      ]
    },
    {
      "cell_type": "code",
      "execution_count": null,
      "metadata": {
        "id": "Vm1yw_yK2mWl"
      },
      "outputs": [],
      "source": [
        "with open('state_to_transition.json', 'w') as f:\n",
        "  json.dump(state_to_transition, f, indent = 3)"
      ]
    },
    {
      "cell_type": "code",
      "execution_count": null,
      "metadata": {
        "id": "vGof517D2t_5"
      },
      "outputs": [],
      "source": [
        "## load the state_to_transition dictionary\n",
        "# with open('state_to_transition.json', 'r') as f:\n",
        "#    new_func = json.load(f)"
      ]
    },
    {
      "cell_type": "markdown",
      "metadata": {
        "id": "yAkwj7o12T3o"
      },
      "source": [
        "###trajectory to plan steps"
      ]
    },
    {
      "cell_type": "code",
      "execution_count": null,
      "metadata": {
        "id": "4XUaRJH41lER"
      },
      "outputs": [],
      "source": [
        "# creating the trajectory_to_plan_steps dictionary (dictionary contains a mapping from trajectory index to the plan step id and transition that was taken from it)\n",
        "trajectory_to_plan_steps=defaultdict(list)\n",
        "\n",
        "for idx_t,t_names in enumerate(trajectorys):\n",
        "  first_player_lst=list(data.load_data(t_names))\n",
        "  id=0\n",
        "  for idx,(state,player_action,_,new_state,_) in enumerate(first_player_lst):\n",
        "    change=[]\n",
        "    prev_inv=Counter(state[\"inventory\"])\n",
        "    curr_inv=Counter(new_state[\"inventory\"])\n",
        "    prev_equ=state['equipped_items.mainhand.type']\n",
        "    curr_equ=new_state['equipped_items.mainhand.type']\n",
        "    if prev_equ!=curr_equ:\n",
        "\n",
        "      change.append((\"equipped\",curr_equ))\n",
        "\n",
        "    #check add item\n",
        "    for item,amount in (curr_inv-prev_inv).items():\n",
        "      change.append((item,int(amount)))\n",
        "    for item,amount in (prev_inv-curr_inv).items():\n",
        "      change.append((item,-int(amount)))\n",
        "    if len(change)!=0:\n",
        "      curr_acc_change=[]\n",
        "      for acc,val in player_action.items():\n",
        "        if acc!=\"camera\" and val!=0 and val!='none':\n",
        "          try:\n",
        "            curr_tuple=(acc,int(val))\n",
        "          except:\n",
        "            curr_tuple=(acc,val)\n",
        "          curr_acc_change.append(curr_tuple)\n",
        "      id+=1\n",
        "      state_small={'equipped_items.mainhand.type':state['equipped_items.mainhand.type'],\"inventory\":{key:int(val) for key,val in state[\"inventory\"].items()}}\n",
        "      trajectory_to_plan_steps[idx_t].append((state_small,curr_acc_change,change,id))\n",
        "\n",
        "\n"
      ]
    },
    {
      "cell_type": "code",
      "execution_count": null,
      "metadata": {
        "id": "No59fIlv1nT7"
      },
      "outputs": [],
      "source": [
        "with open('trajectory_to_plan_steps.json', 'w') as f:\n",
        "  json.dump(trajectory_to_plan_steps, f, indent = 3)"
      ]
    },
    {
      "cell_type": "code",
      "execution_count": null,
      "metadata": {
        "id": "ZneUhDLn1plQ"
      },
      "outputs": [],
      "source": [
        "## load the trajectory_to_plan_steps dictionary\n",
        "# with open('trajectory_to_plan_steps.json', 'r') as f:\n",
        "#    new_func = json.load(f)"
      ]
    },
    {
      "cell_type": "markdown",
      "metadata": {
        "id": "1KpFhkdhyKdW"
      },
      "source": [
        "### POV cluster to actions"
      ]
    },
    {
      "cell_type": "code",
      "execution_count": null,
      "metadata": {
        "id": "i17C5iuuyKdW"
      },
      "outputs": [],
      "source": [
        "knn = pickle.load(open('30000pov_10eps_10min_50k/KNN_povs.pkl', \"rb\"))\n",
        "\n",
        "def predict_pov_cluster(model, pov):\n",
        "    \"\"\"\n",
        "    Predict cluster label of a single POV\n",
        "\n",
        "    Args:\n",
        "        model: instance of the clustering model\n",
        "        pov: 64*64*3 array\n",
        "    \"\"\"\n",
        "    # Normalize the new pov\n",
        "    pov_normalized = pov / 255.0\n",
        "    # Predict the label of the new pov\n",
        "    label = model.predict(pov_normalized.reshape(1, -1))\n",
        "    return label[0]"
      ]
    },
    {
      "cell_type": "code",
      "execution_count": null,
      "metadata": {
        "id": "5Mcr-bPzyKdW",
        "scrolled": true
      },
      "outputs": [],
      "source": [
        "# creating the state_to_transition_with_pov dictionary (dictionary contains a mapping from state to the actions that were taken from it and the pov cluster)\n",
        "changing_actions=set()\n",
        "state_to_transition_with_pov=defaultdict(list)\n",
        "\n",
        "for t_names in trajectorys:\n",
        "  first_player_lst=list(data.load_data(t_names))\n",
        "  id=0\n",
        "\n",
        "  for idx,(state,player_action,_,new_state,_) in enumerate(first_player_lst):\n",
        "    change=[]\n",
        "    prev_inv=Counter(state[\"inventory\"])\n",
        "    curr_inv=Counter(new_state[\"inventory\"])\n",
        "    prev_equ=state['equipped_items.mainhand.type']\n",
        "    curr_equ=new_state['equipped_items.mainhand.type']\n",
        "\n",
        "    if prev_equ!=curr_equ:\n",
        "      change.append((\"equipped\",curr_equ))\n",
        "\n",
        "    #check add item\n",
        "    for key,val in (curr_inv-prev_inv).items():\n",
        "      change.append((key,int(val)))\n",
        "    for item,amount in (prev_inv-curr_inv).items():\n",
        "      change.append((item,-int(amount)))\n",
        "    if len(change)!=0:\n",
        "      curr_acc_change=[]\n",
        "      for acc,val in player_action.items():\n",
        "        if acc!=\"camera\" and val!=0 and val!='none':\n",
        "          try:\n",
        "            curr_acc_change.append((acc,int(val)))\n",
        "          except:\n",
        "            curr_acc_change.append((acc,val))\n",
        "\n",
        "      pov_cluster = predict_pov_cluster(knn, np.array(state['pov']))\n",
        "      state_small={'equipped_items.mainhand.type':state['equipped_items.mainhand.type'],\n",
        "                   'inventory':{key:int(val) for key,val in state['inventory'].items()},\n",
        "                   'pov_cluster': int(pov_cluster)}\n",
        "\n",
        "      state_to_transition_with_pov[int(pov_cluster)].append(tuple(curr_acc_change))\n",
        "      changing_actions.add(str(tuple(curr_acc_change)))"
      ]
    },
    {
      "cell_type": "code",
      "execution_count": null,
      "metadata": {
        "id": "KsNT_kYLp-Qf"
      },
      "outputs": [],
      "source": [
        "with open('pov_cluster_to_transition_with_30K_pov.json', 'w') as f:\n",
        "  json.dump(state_to_transition_with_pov, f, indent = 3)"
      ]
    },
    {
      "cell_type": "code",
      "execution_count": null,
      "metadata": {
        "id": "EwPJP9XJqD-2"
      },
      "outputs": [],
      "source": [
        "## load the state_to_transition_with_pov dictionary\n",
        "# with open('state_to_transition_with_50K_pov.json','r') as f:\n",
        "#    state_act = json.load(f)\n",
        "#    state_act_dicts = [(json.loads(key), value) for key, value in state_act.items()]"
      ]
    },
    {
      "cell_type": "markdown",
      "source": [
        "### POV cluster to actions counter"
      ],
      "metadata": {
        "id": "sRpcTvQ7yFVp"
      }
    },
    {
      "cell_type": "code",
      "source": [
        "pov_to_actions_counter = defaultdict(Counter)\n",
        "\n",
        "for i, t_names in enumerate(trajectorys):\n",
        "    first_player_lst = list(data.load_data(t_names))\n",
        "    # print(i)\n",
        "    for idx,(state,player_action,_,new_state,_) in enumerate(first_player_lst):\n",
        "        pov_cluster = predict_pov_cluster(knn, np.array(state['pov']))\n",
        "        # equipped_item = state['equipped_items.mainhand.type']\n",
        "\n",
        "        for acc, val in player_action.items():\n",
        "            if acc != \"camera\" and val != 0 and val != 'none':\n",
        "                if isinstance(val, str):\n",
        "                    pov_to_actions_counter[int(pov_cluster)][str(acc)+str(val)] += 1\n",
        "                else:\n",
        "                    pov_to_actions_counter[int(pov_cluster)][str(acc)] += int(val)"
      ],
      "metadata": {
        "id": "CVu7e5i6yKVb"
      },
      "execution_count": null,
      "outputs": []
    },
    {
      "cell_type": "code",
      "source": [
        "with open('pov_to_actions_counter.json', 'w') as f:\n",
        "  json.dump(pov_to_actions_counter, f, indent = 3)"
      ],
      "metadata": {
        "id": "mUD9AlHkyLKV"
      },
      "execution_count": null,
      "outputs": []
    }
  ],
  "metadata": {
    "accelerator": "GPU",
    "colab": {
      "provenance": []
    },
    "gpuClass": "standard",
    "kernelspec": {
      "display_name": "Python 3 (ipykernel)",
      "language": "python",
      "name": "python3"
    },
    "language_info": {
      "codemirror_mode": {
        "name": "ipython",
        "version": 3
      },
      "file_extension": ".py",
      "mimetype": "text/x-python",
      "name": "python",
      "nbconvert_exporter": "python",
      "pygments_lexer": "ipython3",
      "version": "3.10.11"
    }
  },
  "nbformat": 4,
  "nbformat_minor": 0
}