{
  "nbformat": 4,
  "nbformat_minor": 0,
  "metadata": {
    "colab": {
      "provenance": []
    },
    "kernelspec": {
      "name": "python3",
      "display_name": "Python 3"
    },
    "language_info": {
      "name": "python"
    }
  },
  "cells": [
    {
      "cell_type": "markdown",
      "source": [
        "##installations and imports"
      ],
      "metadata": {
        "id": "Zm8pORYHr7Zq"
      }
    },
    {
      "cell_type": "code",
      "execution_count": 1,
      "metadata": {
        "id": "k5jEx5_BrYN9"
      },
      "outputs": [],
      "source": [
        "%%capture\n",
        "!sudo add-apt-repository -y ppa:openjdk-r/ppa\n",
        "!sudo apt-get purge openjdk-*\n",
        "!sudo apt-get install openjdk-8-jdk\n",
        "!sudo apt-get install xvfb xserver-xephyr vnc4server python-opengl ffmpeg"
      ]
    },
    {
      "cell_type": "code",
      "source": [
        "%%capture\n",
        "!pip install --upgrade 'setuptools==57.5.0'\n",
        "!pip install 'gym==0.19.0'\n",
        "!pip install --upgrade wheel==0.38.4"
      ],
      "metadata": {
        "id": "ol6MVb47rnRq"
      },
      "execution_count": 2,
      "outputs": []
    },
    {
      "cell_type": "code",
      "source": [
        "%%capture\n",
        "!pip install --upgrade 'minerl==0.4.4'\n",
        "!pip install pyvirtualdisplay\n",
        "# !pip install pytorch\n",
        "!pip install scikit-learn\n",
        "!pip install -U colabgymrender"
      ],
      "metadata": {
        "id": "DvmGkakCrpHV"
      },
      "execution_count": 3,
      "outputs": []
    },
    {
      "cell_type": "code",
      "source": [
        "%%capture\n",
        "!apt-get install xorg openbox\n",
        "!apt-get install xvfb"
      ],
      "metadata": {
        "id": "DYneHxxUrsdA"
      },
      "execution_count": 4,
      "outputs": []
    },
    {
      "cell_type": "code",
      "source": [
        "import random\n",
        "import numpy as np\n",
        "import pandas as pd\n",
        "import torch as th\n",
        "from torch import nn\n",
        "import gym\n",
        "import minerl\n",
        "import torch\n",
        "from tqdm.notebook import tqdm\n",
        "from colabgymrender.recorder import Recorder\n",
        "from pyvirtualdisplay import Display\n",
        "from sklearn.cluster import KMeans\n",
        "import logging\n",
        "from sklearn.cluster import DBSCAN\n",
        "from sklearn.metrics import pairwise_distances\n",
        "import matplotlib.pyplot as plt\n",
        "import json\n",
        "from time import time\n",
        "\n",
        "logging.disable(logging.ERROR) # reduce clutter, remove if something doesn't work to see the error logs."
      ],
      "metadata": {
        "colab": {
          "base_uri": "https://localhost:8080/"
        },
        "id": "x-Rhcw9truqP",
        "outputId": "0372afe5-5422-462a-8a0e-e1f2ea2ed706"
      },
      "execution_count": 5,
      "outputs": [
        {
          "output_type": "stream",
          "name": "stderr",
          "text": [
            "/usr/local/lib/python3.10/dist-packages/gym/logger.py:34: UserWarning: \u001b[33mWARN: Box bound precision lowered by casting to float32\u001b[0m\n",
            "  warnings.warn(colorize(\"%s: %s\" % (\"WARN\", msg % args), \"yellow\"))\n"
          ]
        }
      ]
    },
    {
      "cell_type": "code",
      "source": [
        "minerl.data.download(directory='data', environment='MineRLObtainIronPickaxe-v0');"
      ],
      "metadata": {
        "colab": {
          "base_uri": "https://localhost:8080/"
        },
        "id": "fIk_5gmXrwoF",
        "outputId": "d696597b-3de0-4d79-d25e-276fd857ec39"
      },
      "execution_count": 6,
      "outputs": [
        {
          "output_type": "stream",
          "name": "stderr",
          "text": [
            "Download: https://minerl.s3.amazonaws.com/v4/MineRLObtainIronPickaxe-v0.tar: 100%|██████████| 2802.0/2801.89952 [00:47<00:00, 58.60MB/s]\n"
          ]
        }
      ]
    },
    {
      "cell_type": "code",
      "source": [
        "minerl.data.download(directory='data', environment='MineRLTreechop-v0');"
      ],
      "metadata": {
        "colab": {
          "base_uri": "https://localhost:8080/"
        },
        "id": "QQFrtxOcrydT",
        "outputId": "5fa00417-2677-4a22-fc38-456d8a098f76"
      },
      "execution_count": 7,
      "outputs": [
        {
          "output_type": "stream",
          "name": "stderr",
          "text": [
            "Download: https://minerl.s3.amazonaws.com/v4/MineRLTreechop-v0.tar: 100%|██████████| 1511.0/1510.73792 [00:25<00:00, 59.36MB/s]\n"
          ]
        }
      ]
    },
    {
      "cell_type": "code",
      "source": [
        "data=minerl.data.make(\"MineRLObtainIronPickaxe-v0\")"
      ],
      "metadata": {
        "id": "5z-B4wwdry_0"
      },
      "execution_count": 8,
      "outputs": []
    },
    {
      "cell_type": "code",
      "source": [
        "# run only once!!!\n",
        "display = Display(visible=0, size=(400, 300))\n",
        "display.start();"
      ],
      "metadata": {
        "id": "iX4FK-2zr4yB"
      },
      "execution_count": 9,
      "outputs": []
    },
    {
      "cell_type": "markdown",
      "source": [
        "## Fully Scripted\n"
      ],
      "metadata": {
        "id": "sGzt0oY2sAdo"
      }
    },
    {
      "cell_type": "code",
      "source": [
        "# run this code ONLY if you want to RERUN the below code!\n",
        "\n",
        "# display.stop()\n",
        "# !rm -rf /content/logs\n",
        "# !rm -rf /content/video\n",
        "# display = Display(visible=0, size=(400, 300))\n",
        "# display.start();"
      ],
      "metadata": {
        "id": "bNXG0tq1sGfC"
      },
      "execution_count": null,
      "outputs": []
    },
    {
      "cell_type": "code",
      "source": [
        "# Parameters:\n",
        "TEST_EPISODES = 10  # number of episodes to test the agent for.\n",
        "MAX_TEST_EPISODE_LEN = 15000  # 18k is the default for MineRLObtainDiamond.\n",
        "\n",
        "def str_to_act(env, actions):\n",
        "    act = env.action_space.noop()\n",
        "    for action in actions.split():\n",
        "        if \":\" in action:\n",
        "            k, v = action.split(':')\n",
        "            if k == 'camera':\n",
        "                act[k] = eval(v)\n",
        "            else:\n",
        "                act[k] = v\n",
        "        else:\n",
        "            act[action] = 1\n",
        "    return act\n",
        "\n",
        "\n",
        "def search_sequence():\n",
        "    action_sequence_search = []\n",
        "    action_sequence_search += [''] * 100  # wait 5 secs\n",
        "    action_sequence_search += ['camera:[10,0]'] * 3  # look down 30 degrees\n",
        "\n",
        "    for _ in range(100):\n",
        "        action_sequence_search += ['attack sprint forward'] * 100  # dig forward for 5 secs\n",
        "        action_sequence_search += ['jump']  # jump!\n",
        "        action_sequence_search += ['attack sprint forward'] * 100\n",
        "        action_sequence_search += ['jump']\n",
        "        action_sequence_search += ['attack sprint forward'] * 100\n",
        "\n",
        "        if random.random() < 0.5:  # turn either 90 degrees left or 90 degrees right with an equal probability\n",
        "            action_sequence_search += ['camera:[0,-10]'] * 9\n",
        "        else:\n",
        "            action_sequence_search += ['camera:[0,10]'] * 9\n",
        "    return action_sequence_search\n",
        "\n",
        "\n",
        "def get_action_sequence_log():\n",
        "\n",
        "    # make planks, sticks, crafting table and wooden pickaxe:\n",
        "    action_sequence = []\n",
        "    action_sequence += [''] * 100\n",
        "    action_sequence += ['craft:planks'] * 4\n",
        "    action_sequence += ['craft:stick'] * 2\n",
        "    action_sequence += ['craft:crafting_table']\n",
        "    action_sequence += ['camera:[10,0]'] * 18\n",
        "    action_sequence += ['attack'] * 20\n",
        "    action_sequence += [''] * 10\n",
        "    action_sequence += ['jump']\n",
        "    action_sequence += [''] * 5\n",
        "    action_sequence += ['place:crafting_table']\n",
        "    action_sequence += [''] * 10\n",
        "\n",
        "    action_sequence += ['camera:[-1,0]']\n",
        "    action_sequence += ['nearbyCraft:wooden_pickaxe']\n",
        "    action_sequence += ['camera:[1,0]']\n",
        "    action_sequence += [''] * 10\n",
        "    action_sequence += ['equip:wooden_pickaxe']\n",
        "    action_sequence += [''] * 10\n",
        "\n",
        "    # dig down:\n",
        "    action_sequence += ['attack'] * 600\n",
        "    action_sequence += [''] * 10\n",
        "\n",
        "    return action_sequence\n",
        "\n",
        "def get_action_sequence_cub():\n",
        "\n",
        "    action_sequence = []\n",
        "    action_sequence += [''] * 100\n",
        "    action_sequence += ['craft:crafting_table']\n",
        "    action_sequence += ['camera:[10,0]'] * 18\n",
        "    action_sequence += ['attack'] * 20\n",
        "    action_sequence += [''] * 10\n",
        "    action_sequence += ['jump']\n",
        "    action_sequence += [''] * 5\n",
        "    action_sequence += ['place:crafting_table']\n",
        "    action_sequence += [''] * 10\n",
        "\n",
        "    action_sequence += ['camera:[-1,0]']\n",
        "    action_sequence += ['nearbyCraft:stone_pickaxe']\n",
        "    action_sequence += ['nearbyCraft:furnace']\n",
        "    action_sequence += ['camera:[1,0]']\n",
        "    action_sequence += [''] * 10\n",
        "    action_sequence += ['equip:stone_pickaxe']\n",
        "    action_sequence += [''] * 10\n",
        "\n",
        "    return action_sequence\n",
        "\n",
        "def get_action_sequence_ir_c():\n",
        "\n",
        "    action_sequence = []\n",
        "    action_sequence += [''] * 100\n",
        "    action_sequence += ['place:furnace']\n",
        "    action_sequence += [''] * 10\n",
        "\n",
        "    action_sequence += ['camera:[-1,0]']\n",
        "    action_sequence += ['nearbySmelt:iron_ingot']\n",
        "    action_sequence += ['nearbySmelt:iron_ingot']\n",
        "    action_sequence += ['nearbySmelt:iron_ingot']\n",
        "    action_sequence += ['camera:[1,0]']\n",
        "    action_sequence += [''] * 10\n",
        "\n",
        "    action_sequence += ['place:crafting_table']\n",
        "    action_sequence += [''] * 10\n",
        "\n",
        "    action_sequence += ['camera:[-1,0]']\n",
        "    action_sequence += ['nearbyCraft:iron_pickaxe']\n",
        "    action_sequence += [''] * 10\n",
        "\n",
        "    return action_sequence\n",
        "\n",
        "def main():\n",
        "    env = gym.make('MineRLObtainIronPickaxe-v0')\n",
        "    env._max_episode_steps = 15000\n",
        "    env = Recorder(env, './video', fps=60) ### you can remove this line if you dont want to record the shorts videos. ###\n",
        "\n",
        "    stats = {'runtime': [], 'reward': [], 'reward_at': []}\n",
        "    \n",
        "    for episode in range(TEST_EPISODES):\n",
        "        start = time()\n",
        "        env.reset()\n",
        "        done = False\n",
        "        total_reward = 0\n",
        "        steps = 0\n",
        "        reward_at = []\n",
        "\n",
        "        action_sequence_search = search_sequence()\n",
        "        action_sequence_log = get_action_sequence_log()\n",
        "        action_sequence_cub = get_action_sequence_cub()\n",
        "        action_sequence_ir_c = get_action_sequence_ir_c\n",
        "\n",
        "        # scripted part to get some logs:\n",
        "        for j, action in enumerate(action_sequence_search[:MAX_TEST_EPISODE_LEN]):\n",
        "            obs, reward, done, _ = env.step(str_to_act(env, action))\n",
        "            total_reward += reward\n",
        "            steps += 1\n",
        "            if reward > 0:\n",
        "                  reward_at.append((steps, reward))\n",
        "            if obs['inventory']['log'] >= 3:\n",
        "                break\n",
        "            if done:\n",
        "                break\n",
        "\n",
        "        # print logs anount\n",
        "        logs = obs['inventory']['log']\n",
        "        if logs >= 1:\n",
        "              print('GOT', logs, 'LOGS')\n",
        "\n",
        "        # scripted part to use the logs:\n",
        "        if not done:\n",
        "            for i, action in enumerate(action_sequence_log[:MAX_TEST_EPISODE_LEN - j]):\n",
        "                obs, reward, done, _ = env.step(str_to_act(env, action))\n",
        "                total_reward += reward\n",
        "                steps += 1\n",
        "                if reward > 0:\n",
        "                  reward_at.append((steps, reward))\n",
        "                if done:\n",
        "                    break\n",
        "\n",
        "        # scripted part to get some cobblestones:\n",
        "        if not done:\n",
        "          for j, action in enumerate(action_sequence_search[:MAX_TEST_EPISODE_LEN]):\n",
        "              obs, reward, done, _ = env.step(str_to_act(env, action))\n",
        "              total_reward += reward\n",
        "              steps += 1\n",
        "              if reward > 0:\n",
        "                  reward_at.append((steps, reward))\n",
        "              if obs['inventory']['cobblestone'] >= 11:\n",
        "                  print(\"GOT\", obs['inventory']['cobblestone'], \"cobblestone\")\n",
        "                  break\n",
        "              if done:\n",
        "                  break\n",
        "        \n",
        "        # scripted part to use the cobblestones:\n",
        "        if not done:\n",
        "            for i, action in enumerate(action_sequence_cub[:MAX_TEST_EPISODE_LEN - j]):\n",
        "                obs, reward, done, _ = env.step(str_to_act(env, action))\n",
        "                total_reward += reward\n",
        "                steps += 1\n",
        "                if reward > 0:\n",
        "                  reward_at.append((steps, reward))\n",
        "                if done:\n",
        "                    break\n",
        "\n",
        "\n",
        "        # scripted part to get some iron_ores & coals:\n",
        "        if not done:\n",
        "          for j, action in enumerate(action_sequence_search[:MAX_TEST_EPISODE_LEN]):\n",
        "              obs, reward, done, _ = env.step(str_to_act(env, action))\n",
        "              total_reward += reward\n",
        "              steps += 1\n",
        "              if reward > 0:\n",
        "                  reward_at.append((steps, reward))\n",
        "              iron_ores = obs['inventory']['iron_ore']\n",
        "              coals = obs['inventory']['coal']\n",
        "              if iron_ores >= 3 and coals >= 3:\n",
        "                  print(\"GOT\", iron_ores, \"iron_ores\")\n",
        "                  print(\"GOT\", coals, \"coals\")\n",
        "                  break\n",
        "              if done:\n",
        "                  break\n",
        "\n",
        "        print(\"got\", obs['inventory']['iron_ore'], \"iron_ores\")\n",
        "        print(\"got\", obs['inventory']['coal'], \"coals\")\n",
        "\n",
        "        # scripted part to use the iron_ores & coals:\n",
        "        if not done:\n",
        "            for i, action in enumerate(action_sequence_ir_c[:MAX_TEST_EPISODE_LEN - j]):\n",
        "                obs, reward, done, _ = env.step(str_to_act(env, action))\n",
        "                total_reward += reward\n",
        "                steps += 1\n",
        "                if reward > 0:\n",
        "                  print('WOW')\n",
        "                  reward_at.append((steps, reward))\n",
        "                if done:\n",
        "                    break\n",
        "\n",
        "        print(f'Episode #{episode+1} reward: {total_reward}\\t\\t episode length: {steps}')\n",
        "        \n",
        "        stats['runtime'].append(time() - start)\n",
        "        stats['reward'].append(total_reward)\n",
        "        stats['reward_at'].append(reward_at)\n",
        "\n",
        "    with open(f'stats_full_scripted_roni.json', 'w') as outfile:\n",
        "      json.dump(stats, outfile)\n",
        "\n",
        "    env.close()\n",
        "\n",
        "\n",
        "if __name__ == '__main__':\n",
        "    main()\n"
      ],
      "metadata": {
        "colab": {
          "base_uri": "https://localhost:8080/"
        },
        "id": "Qw1yv-61sCzZ",
        "outputId": "095c3d0d-cb33-48cc-b4c0-2c5d76c09702"
      },
      "execution_count": 11,
      "outputs": [
        {
          "output_type": "stream",
          "name": "stdout",
          "text": [
            "Episode #1 reward: 0.0\t\t episode length: 376\n",
            "GOT 3 LOGS\n",
            "GOT 16 cobblestone\n",
            "We at 163.0 REWARD\n",
            "Episode #2 reward: 163.0\t\t episode length: 5961\n",
            "Episode #3 reward: 0.0\t\t episode length: 4054\n",
            "Episode #4 reward: 0.0\t\t episode length: 5895\n",
            "Episode #5 reward: 0.0\t\t episode length: 5872\n",
            "Episode #6 reward: 0.0\t\t episode length: 5911\n",
            "Episode #7 reward: 0.0\t\t episode length: 2683\n",
            "Episode #8 reward: 1.0\t\t episode length: 1853\n",
            "Episode #9 reward: 0.0\t\t episode length: 849\n",
            "GOT 3 LOGS\n",
            "GOT 11 cobblestone\n",
            "We at 99.0 REWARD\n",
            "Episode #10 reward: 99.0\t\t episode length: 5841\n"
          ]
        }
      ]
    }
  ]
}
