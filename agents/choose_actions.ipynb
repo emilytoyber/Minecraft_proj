{
  "cells": [
    {
      "attachments": {},
      "cell_type": "markdown",
      "metadata": {
        "id": "sLxVHCMKWSH6"
      },
      "source": [
        "## Installations and Imports"
      ]
    },
    {
      "cell_type": "code",
      "execution_count": null,
      "metadata": {
        "colab": {
          "base_uri": "https://localhost:8080/"
        },
        "id": "IRlA3rXnqU0F",
        "outputId": "859ac38d-6f7e-4b57-99a8-157957c739b7"
      },
      "outputs": [
        {
          "name": "stdout",
          "output_type": "stream",
          "text": [
            "Mounted at /content/drive\n"
          ]
        }
      ],
      "source": [
        "from google.colab import drive\n",
        "drive.mount('/content/drive')"
      ]
    },
    {
      "cell_type": "code",
      "execution_count": null,
      "metadata": {
        "id": "d8b-Q4s-BNU0"
      },
      "outputs": [],
      "source": [
        "%%capture\n",
        "!sudo add-apt-repository -y ppa:openjdk-r/ppa\n",
        "!sudo apt-get purge openjdk-*\n",
        "!sudo apt-get install openjdk-8-jdk\n",
        "!sudo apt-get install xvfb xserver-xephyr vnc4server python-opengl ffmpeg"
      ]
    },
    {
      "cell_type": "code",
      "execution_count": null,
      "metadata": {
        "id": "HVRfFQciBnpT"
      },
      "outputs": [],
      "source": [
        "%%capture\n",
        "!pip install --upgrade 'setuptools==57.5.0'\n",
        "!pip install 'gym==0.19.0'\n",
        "!pip install --upgrade wheel==0.38.4"
      ]
    },
    {
      "cell_type": "code",
      "execution_count": null,
      "metadata": {
        "id": "Z9scePJmBSl_"
      },
      "outputs": [],
      "source": [
        "%%capture\n",
        "!pip install --upgrade 'minerl==0.4.4'\n",
        "!pip install pyvirtualdisplay\n",
        "\n",
        "!pip install scikit-learn\n",
        "!pip install -U colabgymrender"
      ]
    },
    {
      "cell_type": "code",
      "execution_count": null,
      "metadata": {
        "id": "vLHGIFJwfmpV"
      },
      "outputs": [],
      "source": [
        "%%capture\n",
        "!apt-get install xorg openbox\n",
        "!apt-get install xvfb"
      ]
    },
    {
      "cell_type": "code",
      "execution_count": null,
      "metadata": {
        "colab": {
          "base_uri": "https://localhost:8080/"
        },
        "id": "2nIA9NkYBxQJ",
        "outputId": "8935b26a-9759-40c1-ec36-36a987e5f3b1"
      },
      "outputs": [
        {
          "name": "stderr",
          "output_type": "stream",
          "text": [
            "/usr/local/lib/python3.10/dist-packages/gym/logger.py:34: UserWarning: \u001b[33mWARN: Box bound precision lowered by casting to float32\u001b[0m\n",
            "  warnings.warn(colorize(\"%s: %s\" % (\"WARN\", msg % args), \"yellow\"))\n"
          ]
        }
      ],
      "source": [
        "import random\n",
        "import numpy as np\n",
        "import pandas as pd\n",
        "import torch as th\n",
        "from torch import nn\n",
        "import gym\n",
        "import minerl\n",
        "import torch\n",
        "from tqdm.notebook import tqdm\n",
        "from colabgymrender.recorder import Recorder\n",
        "from pyvirtualdisplay import Display\n",
        "from sklearn.cluster import KMeans\n",
        "import logging\n",
        "from sklearn.cluster import DBSCAN\n",
        "from sklearn.metrics import pairwise_distances\n",
        "import matplotlib.pyplot as plt\n",
        "import json\n",
        "from time import time\n",
        "import pickle\n",
        "\n",
        "logging.disable(logging.ERROR) # reduce clutter, remove if something doesn't work to see the error logs."
      ]
    },
    {
      "cell_type": "code",
      "execution_count": null,
      "metadata": {
        "colab": {
          "base_uri": "https://localhost:8080/"
        },
        "id": "PsCQUVtAB5dR",
        "outputId": "e0c06f9f-33a0-49d1-a53d-8bf58f92d847"
      },
      "outputs": [
        {
          "name": "stderr",
          "output_type": "stream",
          "text": [
            "Download: https://minerl.s3.amazonaws.com/v4/MineRLObtainIronPickaxe-v0.tar: 100%|██████████| 2802.0/2801.89952 [03:07<00:00, 14.93MB/s]\n"
          ]
        }
      ],
      "source": [
        "minerl.data.download(directory='data', environment='MineRLObtainIronPickaxe-v0');"
      ]
    },
    {
      "cell_type": "code",
      "execution_count": null,
      "metadata": {
        "id": "mv6AREutCHp3"
      },
      "outputs": [],
      "source": [
        "data=minerl.data.make(\"MineRLObtainIronPickaxe-v0\")"
      ]
    },
    {
      "cell_type": "code",
      "execution_count": null,
      "metadata": {
        "id": "n8nisxf7pM6O"
      },
      "outputs": [],
      "source": [
        "# run only once!!!\n",
        "display = Display(visible=0, size=(400, 300))\n",
        "display.start();"
      ]
    },
    {
      "attachments": {},
      "cell_type": "markdown",
      "metadata": {
        "id": "z5QCn398YUtY"
      },
      "source": [
        "## Load Preprocessed Data"
      ]
    },
    {
      "cell_type": "code",
      "execution_count": null,
      "metadata": {
        "id": "8Xqbz9xDcItZ"
      },
      "outputs": [],
      "source": [
        "with open('/content/drive/MyDrive/minecraft proj/state_to_transition.json', 'r') as f: #change paths to your own\n",
        "   state_to_actions_without_clustering = json.load(f)\n",
        "\n",
        "with open('/content/drive/MyDrive/minecraft proj/pov_cluster_to_transition_with_30K_pov.json', 'r') as f:\n",
        "    pov_to_actions = json.load(f)"
      ]
    },
    {
      "cell_type": "code",
      "execution_count": null,
      "metadata": {
        "id": "-8F5XK9_Ceob"
      },
      "outputs": [],
      "source": [
        "def load_pov_clustering(model_fn):\n",
        "    \"\"\"\n",
        "    Loads the pov clustering model\n",
        "    \n",
        "    Args:\n",
        "        model_fn: file name of the stored model\n",
        "    \"\"\"\n",
        "    clustering = pickle.load(open(model_fn, \"rb\"))\n",
        "    return clustering"
      ]
    },
    {
      "cell_type": "code",
      "execution_count": null,
      "metadata": {
        "colab": {
          "base_uri": "https://localhost:8080/"
        },
        "id": "QwgSxb7NBSgC",
        "outputId": "3e757665-e4bf-4e98-975e-fbbbeb6424dc"
      },
      "outputs": [
        {
          "name": "stdout",
          "output_type": "stream",
          "text": [
            "Archive:  /content/drive/MyDrive/minecraft proj/KNN_povs_30K.zip\n",
            "  inflating: KNN_povs.pkl            \n"
          ]
        }
      ],
      "source": [
        "!unzip '/content/drive/MyDrive/minecraft proj/KNN_povs_30K.zip' \n",
        "clustering = load_pov_clustering('KNN_povs.pkl')"
      ]
    },
    {
      "attachments": {},
      "cell_type": "markdown",
      "metadata": {
        "id": "Ym_PVV_AY0Ui"
      },
      "source": [
        "## Learned-Actions Algorithm"
      ]
    },
    {
      "attachments": {},
      "cell_type": "markdown",
      "metadata": {
        "id": "lUB1usHU1VRl"
      },
      "source": [
        "![image.png](data:image/png;base64,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)"
      ]
    },
    {
      "cell_type": "code",
      "execution_count": null,
      "metadata": {
        "id": "Vo0XIxPYk8Ix"
      },
      "outputs": [],
      "source": [
        "def update_stage(state, stage):\n",
        "  \"\"\"Check the inventory and updates the agent's stage in the game\n",
        "  \n",
        "  Args:\n",
        "      state: the agent's state in the game\n",
        "      stage: game's stage, derived from agent's inventory\n",
        "\n",
        "  Return:\n",
        "      tuple (stage, is_changed)\n",
        "  \"\"\"\n",
        "  if stage == 0:\n",
        "    logs = int(state['inventory']['log'])\n",
        "    if logs > 0:\n",
        "      print(\"GOT\", logs, \"logs\")\n",
        "    if logs >= 3:\n",
        "      return (1, True)\n",
        "  \n",
        "  elif stage == 1:\n",
        "    cobblestones = int(state['inventory']['cobblestone'])\n",
        "    if logs > 0:\n",
        "      print(\"GOT\", cobblestones, \"cobblestones\")\n",
        "    if cobblestones >= 11:\n",
        "      return (2, True)\n",
        "  \n",
        "  else: # stage == 2:\n",
        "    iron_ores = int(state['inventory']['iron_ore'])\n",
        "    coals = int(state['inventory']['coal'])\n",
        "    if iron_ores >= 3 and coals >= 3:\n",
        "      return (3, True)\n",
        "  \n",
        "  return (stage, False)"
      ]
    },
    {
      "cell_type": "code",
      "execution_count": null,
      "metadata": {
        "id": "bAuIJS1Plts_"
      },
      "outputs": [],
      "source": [
        "def predict_pov_cluster(model, pov):\n",
        "    \"\"\"\n",
        "    Predict cluster label of a single POV\n",
        "    \n",
        "    Args:        \n",
        "        model: instance of the clustering model\n",
        "        pov: 64*64*3 array\n",
        "    \"\"\"\n",
        "    # Normalize the new pov\n",
        "    pov_normalized = pov / 255.0  \n",
        "    # Predict the label of the new pov\n",
        "    label = model.predict(pov_normalized.reshape(1, -1))\n",
        "    return label[0]"
      ]
    },
    {
      "cell_type": "code",
      "execution_count": null,
      "metadata": {
        "id": "zhtlGDuVlBPg"
      },
      "outputs": [],
      "source": [
        "def get_relevant_actions(model, state):\n",
        "    \"\"\"\n",
        "    Returns the relevant actions to the agent based on its pov. If not possible, use the current state including what it is holding in hand and its inventory. \n",
        "\n",
        "    Args:\n",
        "        model: instance of the clustering model\n",
        "        state: the agent's current state\n",
        "    Return:\n",
        "        actions: list of actions \n",
        "    \"\"\"\n",
        "    # Get the pov cluster by the clustering model\n",
        "    current_pov = np.array(state['pov'])\n",
        "    pov_cluster = predict_pov_cluster(model, current_pov)\n",
        "\n",
        "    # If possible, get the actions by the relevant pov cluster\n",
        "    pov_cluster_str = str(pov_cluster)\n",
        "    if pov_cluster_str != '-1' and pov_cluster_str in pov_to_actions:\n",
        "      actions = pov_to_actions[pov_cluster_str]\n",
        "      actions = [lst for lst in actions if lst]\n",
        "      return actions\n",
        "\n",
        "    # If pov cluster is not valid, get the actions by the current state including what is in hand and the inventory\n",
        "    state_small = {'equipped_items.mainhand.type': state['equipped_items']['mainhand']['type'], \n",
        "                  'inventory': {key:int(val) for key,val in state['inventory'].items()}}\n",
        "    key_state = json.dumps(state_small)\n",
        "    actions = state_to_actions_without_clustering.get(key_state, None)\n",
        "\n",
        "    if actions:\n",
        "      actions = [lst for lst in actions if lst]\n",
        "\n",
        "    return actions"
      ]
    },
    {
      "attachments": {},
      "cell_type": "markdown",
      "metadata": {
        "id": "tk4ke4kGY_4b"
      },
      "source": [
        "## Test"
      ]
    },
    {
      "cell_type": "code",
      "execution_count": null,
      "metadata": {
        "id": "8OeMnRHPvkx9"
      },
      "outputs": [],
      "source": [
        "def str_to_act(action, value, env):\n",
        "    \"\"\"Reutrn the action should be done in the expected format\"\"\"\n",
        "    act = env.action_space.noop()\n",
        "    act[action] = value\n",
        "    return act"
      ]
    },
    {
      "cell_type": "code",
      "execution_count": null,
      "metadata": {
        "id": "TIUePFXaaNsU"
      },
      "outputs": [],
      "source": [
        "def act(state, stage, env):\n",
        "    \"\"\"Performs a single step for the agent in the game.\n",
        "    Choose the next action from the distribution of the actions of other agents performed from a state similar to the agent's current state.\n",
        "    \n",
        "    Args:\n",
        "        state: the agent's state in the game\n",
        "        stage: game's stage, derived from agent's inventory\n",
        "        env: game environment\n",
        "    Return:\n",
        "        (obs, rewards, done, stage, steps): data of next state\n",
        "    \"\"\"\n",
        "    actions = get_relevant_actions(clustering, state)\n",
        "    \n",
        "    if actions is None or actions == []:\n",
        "      action = env.action_space.sample()\n",
        "      obs, rewards, done, _ = env.step(action) # Take a random action\n",
        "      steps = 1\n",
        "      return obs, rewards, done, stage, steps\n",
        "    \n",
        "    steps = 0\n",
        "    rewards = 0\n",
        "    chosen_action = random.choice(actions) # [[a, 1], [b, 2]]\n",
        "    for a in chosen_action:\n",
        "      action, value = tuple(a)\n",
        "      obs, reward, done, _ = env.step(str_to_act(action, value, env))\n",
        "      steps += 1\n",
        "      rewards += reward\n",
        "      stage, is_changed = update_stage(state, stage)\n",
        "      if is_changed:\n",
        "        print(f\"stage {stage}\")\n",
        "\n",
        "      if done:\n",
        "        return obs, rewards, done, stage, steps\n",
        "\n",
        "    return obs, rewards, done, stage, steps"
      ]
    },
    {
      "cell_type": "code",
      "execution_count": null,
      "metadata": {
        "id": "XmJHRwE6iftn"
      },
      "outputs": [],
      "source": [
        "def test_model(episodes, env):\n",
        "  stats = {'runtime': [], 'reward': [], 'reward_at': []}\n",
        "\n",
        "  for i in range(1, episodes + 1):\n",
        "    print(f\"Episode {i}\")\n",
        "    start = time()\n",
        "    obs = env.reset()\n",
        "    done = False\n",
        "    total_reward = 0\n",
        "    stage = 0\n",
        "    total_steps = 0\n",
        "    reward_at = []\n",
        "    j = 0\n",
        "    \n",
        "    while not done:\n",
        "      obs, reward, done, stage, steps = act(obs, stage, env)\n",
        "      total_steps += steps\n",
        "      total_reward += reward\n",
        "      if reward > 0:\n",
        "        reward_at.append((total_steps, reward))\n",
        "      if total_steps >= 100 * j:\n",
        "        j += 1\n",
        "        print(total_steps)\n",
        "      if done:\n",
        "        break\n",
        "    \n",
        "    stats['runtime'].append(time() - start)\n",
        "    stats['reward'].append(total_reward)\n",
        "    stats['reward_at'].append(reward_at)\n",
        "\n",
        "  return stats"
      ]
    },
    {
      "cell_type": "code",
      "execution_count": null,
      "metadata": {
        "id": "8pcvfO8LBnW1"
      },
      "outputs": [],
      "source": [
        "# deletes virtual display if crashed and restarts it\n",
        "# display.stop()\n",
        "# !rm -rf /content/logs\n",
        "# !rm -rf /content/video\n",
        "\n",
        "# display = Display(visible=0, size=(400, 300))\n",
        "# display.start();"
      ]
    },
    {
      "cell_type": "code",
      "execution_count": null,
      "metadata": {
        "id": "4b0jG6JSB5w5"
      },
      "outputs": [],
      "source": [
        "env = gym.make('MineRLObtainIronPickaxe-v0')\n",
        "env = Recorder(env, './video', fps=60)"
      ]
    },
    {
      "cell_type": "code",
      "execution_count": null,
      "metadata": {
        "colab": {
          "base_uri": "https://localhost:8080/"
        },
        "id": "4DVGMpEsn5dz",
        "outputId": "be5fa96c-efc0-4c06-e259-6fe9e082584f"
      },
      "outputs": [
        {
          "name": "stdout",
          "output_type": "stream",
          "text": [
            "Episode 1\n",
            "1\n",
            "100\n",
            "200\n",
            "300\n",
            "400\n",
            "500\n",
            "601\n",
            "700\n",
            "800\n",
            "900\n",
            "1000\n",
            "1103\n",
            "1201\n",
            "1301\n",
            "1401\n",
            "1500\n",
            "1600\n",
            "1700\n",
            "1800\n",
            "1900\n",
            "2000\n",
            "2100\n",
            "2200\n",
            "2300\n",
            "2400\n",
            "2500\n",
            "2600\n",
            "2700\n",
            "2800\n",
            "2900\n",
            "3001\n",
            "3100\n",
            "3200\n",
            "3300\n",
            "3401\n",
            "3500\n",
            "3600\n",
            "3700\n",
            "3800\n",
            "3900\n",
            "4001\n",
            "4100\n",
            "4200\n",
            "4302\n",
            "4400\n",
            "4500\n",
            "4600\n",
            "4700\n",
            "4800\n",
            "4900\n",
            "5001\n",
            "5100\n",
            "5200\n",
            "5300\n",
            "5400\n",
            "5500\n",
            "5600\n",
            "5700\n",
            "5800\n",
            "5900\n",
            "Episode 2\n",
            "1\n",
            "100\n",
            "200\n",
            "300\n",
            "400\n",
            "500\n",
            "600\n",
            "701\n"
          ]
        }
      ],
      "source": [
        "#saving stats\n",
        "episodes = 2\n",
        "stats = test_model(episodes, env)\n",
        "with open(f'stats_learned_actions.json', 'w') as outfile:\n",
        "    json.dump(stats, outfile)"
      ]
    }
  ],
  "metadata": {
    "colab": {
      "collapsed_sections": [
        "z5QCn398YUtY"
      ],
      "gpuClass": "premium",
      "provenance": []
    },
    "gpuClass": "premium",
    "kernelspec": {
      "display_name": "Python 3",
      "name": "python3"
    },
    "language_info": {
      "name": "python"
    }
  },
  "nbformat": 4,
  "nbformat_minor": 0
}
